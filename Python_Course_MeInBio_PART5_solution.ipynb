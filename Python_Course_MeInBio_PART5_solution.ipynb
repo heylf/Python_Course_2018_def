{
 "cells": [
  {
   "cell_type": "markdown",
   "metadata": {},
   "source": [
    "<img src=\"IMAGES_PYTHON_COURSE_2018/LOGO_MEINBIO_TRANSPARENT.png\" width=\"200\" height=\"200\" />\n",
    "\n",
    "# <center>Python course 2018\n",
    "### <center>MeInBio Training Group \n",
    "#### <center> by Florian Heyl & Francesco Ferrari "
   ]
  },
  {
   "cell_type": "markdown",
   "metadata": {},
   "source": [
    "# PART 5: CONDITIONAL STATEMENTS\n",
    "\n",
    "An interesting piece of program is one that can evaluate if certain conditions are met and act accordingly. For example, imagine we have a DNA sequence and we want to print it to the screen if the sequence is longer than 300 bp. Or imagine we have a count table (from an RNA-Seq experiment) with the number of reads mapped to each gene and we want our program to discard a gene if that gene has less that 10 reads mapped to it. \n",
    "\n",
    "Whenever we want our program to verify if a condition is met, we use a conditional statement. Let's have a look at what are conditions and how conditional statements work in Python. \n",
    "\n",
    "### What is a condition? \n",
    "\n",
    "A condition is simply a bit of code that can produce a true or false answer."
   ]
  },
  {
   "cell_type": "code",
   "execution_count": 1,
   "metadata": {},
   "outputs": [
    {
     "name": "stdout",
     "output_type": "stream",
     "text": [
      "True\n",
      "False\n",
      "True\n",
      "False\n",
      "False\n",
      "True\n"
     ]
    }
   ],
   "source": [
    "# examples of conditions\n",
    "\n",
    "print(len('ATCCGTA') > 2)\n",
    "print(20 == 30) ### PLEASE NOTICE THAT WE USE \"==\" AND NOT \"=\" TO TEST IF TWO ITEMS ARE THE SAME\n",
    "print(\"I Love Pizza\".startswith('I'))\n",
    "print(\"I Also Love Carbonara\".endswith(\"y\"))\n",
    "print(\"apple\" in [\"banana\",\"orange\",\"cherry\"])\n",
    "print(\"Anakin\" != \"Luke\")"
   ]
  },
  {
   "cell_type": "markdown",
   "metadata": {},
   "source": [
    "- # If else Statements\n",
    "\n",
    "We have just seen how to build some conditions and have our code to output True or False if the condition is met or not met respectively. Now, we are ready to make our program take decisions and act according to a condition's outcome.\n",
    "\n",
    "The simplest kind of conditional statement is an \"if statement\". In Python, the syntax for if statements in very easy:\n",
    "\n",
    "We write the word \"if\", followed by a condition, and end the first line with a colon. There follows a block of indented lines of code (the body of the if statement), which will only be executed if the condition is true."
   ]
  },
  {
   "cell_type": "code",
   "execution_count": 2,
   "metadata": {},
   "outputs": [
    {
     "name": "stdout",
     "output_type": "stream",
     "text": [
      "my sequence is short\n"
     ]
    }
   ],
   "source": [
    "# example of if statement 1 (easy)\n",
    "\n",
    "#my_sequence = \"AAAATCCCCGTACT\"\n",
    "my_sequence = \"AAT\"\n",
    "if len(my_sequence) > 4:\n",
    "    print(\"my sequence is long\".upper())\n",
    "else:\n",
    "    print(\"my sEQUence Is short\".lower())"
   ]
  },
  {
   "cell_type": "markdown",
   "metadata": {},
   "source": [
    "### Exercise n° 1 (medium): \n",
    "\n",
    "Given a list of tuples of the form (chr, gene_name), identify all genes present in the X chromosome and save them to a text file."
   ]
  },
  {
   "cell_type": "code",
   "execution_count": 3,
   "metadata": {},
   "outputs": [],
   "source": [
    "import sys\n",
    "import os\n",
    "sys.path.append(os.path.abspath(\"./Book_and_other_resources/\"))"
   ]
  },
  {
   "cell_type": "code",
   "execution_count": 4,
   "metadata": {},
   "outputs": [
    {
     "name": "stdout",
     "output_type": "stream",
     "text": [
      "You are working with 53715 genes\n"
     ]
    },
    {
     "data": {
      "text/plain": [
       "[('chr1', 'ENSMUSG00000102693.1'),\n",
       " ('chr1', 'ENSMUSG00000064842.1'),\n",
       " ('chr1', 'ENSMUSG00000051951.5'),\n",
       " ('chr1', 'ENSMUSG00000102851.1'),\n",
       " ('chr1', 'ENSMUSG00000103377.1'),\n",
       " ('chr1', 'ENSMUSG00000104017.1'),\n",
       " ('chr1', 'ENSMUSG00000103025.1'),\n",
       " ('chr1', 'ENSMUSG00000089699.1'),\n",
       " ('chr1', 'ENSMUSG00000103201.1'),\n",
       " ('chr1', 'ENSMUSG00000103147.1')]"
      ]
     },
     "execution_count": 4,
     "metadata": {},
     "output_type": "execute_result"
    }
   ],
   "source": [
    "import python_course_functions as pcf\n",
    "gene_list = pcf.loadGeneList(\"./BOOK_and_other_resources/gene_list.txt\")\n",
    "\n",
    "print(\"You are working with {} genes\".format(len(gene_list)))\n",
    "\n",
    "gene_list[0:10] # to see the structure of your data"
   ]
  },
  {
   "cell_type": "code",
   "execution_count": 5,
   "metadata": {},
   "outputs": [
    {
     "name": "stdout",
     "output_type": "stream",
     "text": [
      "True\n",
      "m\n",
      "y\n",
      "s\n",
      "t\n",
      "r\n",
      "i\n",
      "n\n",
      "g\n"
     ]
    }
   ],
   "source": [
    "print(gene_list[0][0] == \"chr1\")\n",
    "#len(gene_list[0])\n",
    "for char in \"mystring\":\n",
    "    print(char)"
   ]
  },
  {
   "cell_type": "code",
   "execution_count": 9,
   "metadata": {},
   "outputs": [],
   "source": [
    "### insert your commands in the space below\n",
    "\n",
    "X_chrom = open('test_data/X_chrom.csv', 'w')\n",
    "for file in gene_list:\n",
    "    if file[0] ==\"chrX\":\n",
    "        gene = file[1] + \"\\n\"\n",
    "        X_chrom.write(gene)\n",
    "        \n",
    "X_chrom.close()\n",
    "\n",
    "\n",
    "# 2nd solution\n",
    "newfile = open('test_data/allXchromgenes.csv', 'w')\n",
    "for i in range(0, len(gene_list)):\n",
    "    file = gene_list[i]\n",
    "    chromosome = gene_list[i][0]\n",
    "    if(chromosome == \"chrX\"):\n",
    "        newfile.write(gene_list[i][0] + gene_list[i][1] + \"\\n\")"
   ]
  },
  {
   "cell_type": "code",
   "execution_count": 10,
   "metadata": {},
   "outputs": [],
   "source": [
    "# 3rd solution\n",
    "my_file = \"test_data/chrx_genes.csv\"\n",
    "\n",
    "file = open(\"test_data/chrx_genes.csv\", \"w\")\n",
    "\n",
    "def write_chrx_genes(x, file):\n",
    "    \n",
    "    file = open(file, \"w\")\n",
    "\n",
    "    for i in range(0, len(x)):\n",
    "        chromosome = x[i][0]\n",
    "        if(chromosome == \"chrX\"):\n",
    "            file.write(x[i][0] + x[i][1] + \"\\n\")\n",
    "\n",
    "    file.close()\n",
    "\n",
    "### needs to work:\n",
    "write_chrx_genes(gene_list, \"test_data/chrx_genes.csv\")"
   ]
  },
  {
   "cell_type": "markdown",
   "metadata": {},
   "source": [
    "- ##  Elif statements\n",
    "\n",
    "If we have more than 2 possible branches, instead of using else, we use elif. "
   ]
  },
  {
   "cell_type": "code",
   "execution_count": 11,
   "metadata": {},
   "outputs": [
    {
     "name": "stdout",
     "output_type": "stream",
     "text": [
      "'banana' is a very long word\n",
      "\n",
      "'apple' has 5 letters\n",
      "\n",
      "'cherry' is a very long word\n",
      "\n",
      "'kiwi' has 4 letters\n",
      "\n",
      "'pear' has 4 letters\n",
      "\n",
      "'rasberry' is a very long word\n",
      "\n",
      "'blueberry' is a very long word\n",
      "\n",
      "'peach' has 5 letters\n",
      "\n",
      "'cas' is a very short word\n",
      "\n"
     ]
    }
   ],
   "source": [
    "# example of elif statement\n",
    "my_fav_fruit=[\"banana\", \"apple\", \"cherry\", \"kiwi\", \"pear\", \"rasberry\", \"blueberry\", \"peach\", \"cas\"]\n",
    "\n",
    "for fruit in my_fav_fruit:\n",
    "    if len(fruit) == 4:\n",
    "        print(\"'{}' has 4 letters\\n\".format(fruit))\n",
    "    elif len(fruit) == 5:\n",
    "        print(\"'{}' has 5 letters\\n\".format(fruit))\n",
    "    elif len(fruit) > 5:\n",
    "        print(\"'{}' is a very long word\\n\".format(fruit))\n",
    "    else:\n",
    "        print(\"'{}' is a very short word\\n\".format(fruit))"
   ]
  },
  {
   "cell_type": "markdown",
   "metadata": {},
   "source": [
    "### Exercise n° 2 (medium): \n",
    "\n",
    "Using the same list of tuples of the form (chr, gene_name) from exercise 1, write to separate files all genes found on chromosome 1, chromosome 4, chromosome 11 and chromosome Y"
   ]
  },
  {
   "cell_type": "code",
   "execution_count": 12,
   "metadata": {},
   "outputs": [],
   "source": [
    "### insert your commands in the space below\n",
    "\n",
    "# gene_list = pcf.loadGeneList(\"./BOOK_and_other_resources/gene_list.txt\") has to be executed before!\n",
    "gene_list = pcf.loadGeneList(\"./BOOK_and_other_resources/gene_list.txt\")\n",
    "\n",
    "chrom_X = open('test_data/chrom_X.csv',\"w\")\n",
    "chrom_1 = open('test_data/chrom_1.csv',\"w\")\n",
    "chrom_4 = open('test_data/chrom_4.csv',\"w\")\n",
    "chrom_11 = open('test_data/chrom_11.csv',\"w\")\n",
    "chrom_Y = open('test_data/chrom_Y.csv',\"w\")\n",
    "\n",
    "for file in gene_list:\n",
    "    if file[0] ==\"chrX\":\n",
    "        gene = file[1] + \"\\n\"\n",
    "        chrom_X.write(gene)\n",
    "    elif file[0] ==\"chr1\":\n",
    "        gene = file[1] + \"\\n\"\n",
    "        chrom_1.write(gene)\n",
    "    elif file[0] ==\"chr4\":\n",
    "        gene = file[1] + \"\\n\"\n",
    "        chrom_4.write(gene)\n",
    "    elif file[0] ==\"chr11\":\n",
    "        gene = file[1] + \"\\n\"\n",
    "        chrom_11.write(gene)\n",
    "    elif file[0] ==\"chrY\":\n",
    "        gene = file[1] + \"\\n\"\n",
    "        chrom_Y.write(gene)\n",
    "        \n",
    "chrom_X.close()\n",
    "chrom_1.close()\n",
    "chrom_4.close()\n",
    "chrom_11.close()\n",
    "chrom_Y.close()"
   ]
  },
  {
   "cell_type": "markdown",
   "metadata": {},
   "source": [
    "- # Combining Conditions with and / or"
   ]
  },
  {
   "cell_type": "markdown",
   "metadata": {},
   "source": [
    "It is possible to express conditions made up of several parts. For example, given a list of accession IDs, print all IDs that start with \"a\"/\"A\" and end with \"z/\"Z\". To do that, we use the operator \"and\". The combined \"if\" condition will return a True if all conditions are satisfied, False otherwise. \n",
    "\n",
    "Alternatively, we can write disjunctive conditions using the \"or\" logical operator. In this case, the combined \"if\" condition will return a True if at least one of the conditions are satisfied, False if all condition are not satisfied.    "
   ]
  },
  {
   "cell_type": "code",
   "execution_count": 13,
   "metadata": {},
   "outputs": [
    {
     "name": "stdout",
     "output_type": "stream",
     "text": [
      "IDs starting with 'a' AND ending with 'z':\n",
      "ID_a132i398zzz\n",
      "ID_Afkj3ehrdZZ\n",
      "ID_Askdsa3s4nz\n",
      "ID_ASOI0934U5Z\n",
      "\n",
      "\n",
      "IDs starting with 'e' OR ending with 'j':\n",
      "ID_b34573y4jnj\n",
      "ID_EFGJNG24OIN\n",
      "ID_234oitfunkj\n",
      "ID_ewowrit13ir\n"
     ]
    }
   ],
   "source": [
    "list_ID = [\"ID_a132i398zzz\",\n",
    "           \"ID_b34573y4jnj\",\n",
    "           \"ID_S45u92s8fgz\",\n",
    "           \"ID_Afkj3ehrdZZ\",\n",
    "           \"ID_Askdsa3s4nz\",\n",
    "           \"ID_EFGJNG24OIN\",\n",
    "           \"ID_234oitfunkj\",\n",
    "           \"ID_ASOI0934U5Z\",\n",
    "           \"ID_ewowrit13ir\"]\n",
    "\n",
    "print(\"IDs starting with 'a' AND ending with 'z':\")\n",
    "for i in list_ID:\n",
    "    id_seq = i.split(\"_\")[1]\n",
    "    if id_seq[0].lower() == \"a\" and id_seq[-1].lower() == \"z\":\n",
    "        print(i)\n",
    "print(\"\\n\")     \n",
    "print(\"IDs starting with 'e' OR ending with 'j':\")\n",
    "for i in list_ID:\n",
    "    id_seq = i.split(\"_\")[1]\n",
    "    if id_seq[0].lower() == \"e\" or id_seq[-1].lower() == \"j\":\n",
    "        print(i)"
   ]
  },
  {
   "cell_type": "code",
   "execution_count": 14,
   "metadata": {
    "scrolled": true
   },
   "outputs": [
    {
     "name": "stdout",
     "output_type": "stream",
     "text": [
      "ID_a132i398zzz\n",
      "<class 'str'>\n"
     ]
    }
   ],
   "source": [
    "list_ID = [\"ID_a132i398zzz\",\n",
    "           \"ID_b34573y4jnj\",\n",
    "           \"ID_S45u92s8fgz\",\n",
    "           \"ID_Afkj3ehrdZZ\",\n",
    "           \"ID_Askdsa3s4nz\",\n",
    "           \"ID_EFGJNG24OIN\",\n",
    "           \"ID_234oitfunkj\",\n",
    "           \"ID_ASOI0934U5Z\",\n",
    "           \"ID_ewowrit13ir\"]\n",
    "\n",
    "i = list_ID[0]\n",
    "print(i)\n",
    "print(type(i.split(\"_\")[0]))\n"
   ]
  },
  {
   "cell_type": "markdown",
   "metadata": {},
   "source": [
    "### Exercise n° 3 (medium):\n",
    "\n",
    "A) Using the gene list from exercise 1, count how many genes are found in chromosome 1 and have a ID that ends with 1. \n",
    "\n",
    "B) Using the same list, count how many genes are found in chromosome 2 and 4 which have and ID whose number after the dot is either a 3 or a 7. (PAY ATTENTION! THIS IS DIFFERENT FROM THE CONDITION OF 3A).  "
   ]
  },
  {
   "cell_type": "code",
   "execution_count": 15,
   "metadata": {},
   "outputs": [
    {
     "name": "stdout",
     "output_type": "stream",
     "text": [
      "2092\n",
      "2092\n"
     ]
    }
   ],
   "source": [
    "### insert your commands in the space below\n",
    "gene_list = pcf.loadGeneList(\"./BOOK_and_other_resources/gene_list.txt\")\n",
    "\n",
    "# A) \n",
    "count = []\n",
    "counter = 0\n",
    "for file in gene_list:\n",
    "    if file[0] == \"chr1\" and file[1][-1] == \"1\":\n",
    "        count.append(file[1])\n",
    "        counter += 1\n",
    "\n",
    "print(len(count))\n",
    "print(counter)"
   ]
  },
  {
   "cell_type": "code",
   "execution_count": 16,
   "metadata": {},
   "outputs": [
    {
     "name": "stdout",
     "output_type": "stream",
     "text": [
      "559\n"
     ]
    }
   ],
   "source": [
    "# B) \n",
    "# chromosome 2 and 4 which have and ID whose number after the dot is either a 3 or a 7\n",
    "counter = 0\n",
    "for file in gene_list:\n",
    "    ID = file[1].split(\".\")\n",
    "    if (file[0] == \"chr2\" or file[0] == \"chr4\") and (ID[1][0] == \"3\" or ID[1][0] == \"7\"):\n",
    "        counter += 1\n",
    "print(counter)"
   ]
  },
  {
   "cell_type": "markdown",
   "metadata": {},
   "source": [
    "Expected Outcome:\n",
    "\n",
    "\n",
    "3A): 2092          \n",
    "3B): 559"
   ]
  },
  {
   "cell_type": "markdown",
   "metadata": {},
   "source": [
    "- # Boolean functions and conditional statements\n",
    "\n",
    "Sometime, you may need to check if a complex condition (that means, a condition that cannot be expressed with the standard tools \"==\", \">\", \"<\", \"endswith\", \"startswith\", etc.) holds true and have your script react according to the outcome.\n",
    "\n",
    "To do that, we must write our own function that returns a True if the condition we want to test is met, and False otherwise. \n",
    "\n",
    "For example:\n",
    "  \n",
    "Say that you want to check if a sequence is AT-rich. If the sequence is AT-rich, then you print it to the screen with the corresponding percentage. You also want to collect all not AT-rich regions in a list, and print it to the screen."
   ]
  },
  {
   "cell_type": "code",
   "execution_count": 17,
   "metadata": {},
   "outputs": [
    {
     "name": "stdout",
     "output_type": "stream",
     "text": [
      "ATTTGTCCAAAGTATATAT is composed for the 78.9% of AT\n",
      "\n",
      "GGCGAAAAAAATTTTTTTT is composed for the 78.9% of AT\n",
      "\n",
      "AAATATATATATATATATA is composed for the 100.0% of AT\n",
      "\n",
      "GGATTATCCTGGATATATAT is composed for the 70.0% of AT\n",
      "\n",
      "TTTTTTTTTTTAAAAAAAAA is composed for the 100.0% of AT\n",
      "\n",
      "GGGTTTTTATATATTTAAAT is composed for the 85.0% of AT\n",
      "\n",
      "2 sequence were not AT-rich:['GGGCGAGGCGTTGCGAGGG', 'GGGTGGGCGCGCGCGAGGGG']\n"
     ]
    }
   ],
   "source": [
    "def is_AT_rich(sequence):\n",
    "    sequence = sequence.lower()  # sequence is made of lower characters to avoid mismatches due to capitalization\n",
    "    a = sequence.count(\"a\") # count how many \"a\" are in the sequence\n",
    "    t = sequence.count(\"t\") # count how many \"t\" are in the sequence\n",
    "    fr_at = (a+t)/len(sequence) # compute the fraction of at present in the sequence\n",
    "    if fr_at >= 0.65:    # if the fraction is greater or equal 0.65 (65%) ...\n",
    "        return (True, fr_at) # return a tuple where the first element is a True (boolean), and the second is the at fraction\n",
    "    else:                   # otherwise\n",
    "        return (False, fr_at)  # return a tuple where the first element is a False (boolean), and the second is the at fraction \n",
    "    \n",
    "sequences = [\"ATTTGTCCAAAGTATATAT\",\n",
    "             \"GGGCGAGGCGTTGCGAGGG\",\n",
    "             \"GGCGAAAAAAATTTTTTTT\",\n",
    "             \"AAATATATATATATATATA\",\n",
    "             \"GGATTATCCTGGATATATAT\",\n",
    "             \"TTTTTTTTTTTAAAAAAAAA\",\n",
    "             \"GGGTTTTTATATATTTAAAT\",\n",
    "             \"GGGTGGGCGCGCGCGAGGGG\"]\n",
    "\n",
    "not_AT_rich = []\n",
    "for sequence in sequences:\n",
    "    if is_AT_rich(sequence)[0]:\n",
    "        print(\"{} is composed for the {}% of AT\\n\".format(sequence, round(is_AT_rich(sequence)[1]*100,1) ))\n",
    "    else:\n",
    "        not_AT_rich.append(sequence)\n",
    "print(\"{} sequence were not AT-rich:{}\".format(len(not_AT_rich), not_AT_rich))"
   ]
  },
  {
   "cell_type": "markdown",
   "metadata": {},
   "source": [
    "### Exercise n° 4 (difficult):\n",
    "\n",
    "write a function that verifies whether a in a sequence there are at least 4 CpG (a C immediately followed by a G, i.e. \"CG\") and return a True if so, False otherwise. \n",
    "\n",
    "Then, given a list of sequence, print to screen those sequences that have at least 4 CpG in them."
   ]
  },
  {
   "cell_type": "code",
   "execution_count": 19,
   "metadata": {},
   "outputs": [
    {
     "name": "stdout",
     "output_type": "stream",
     "text": [
      "ATTCGCGCGCGATAATTCG\n",
      "TTTCGGCCGCGATTTACGG\n"
     ]
    }
   ],
   "source": [
    "new_sequences = [\"CGGGGAGTCGAAATTGCTA\",\n",
    "                 \"ATTCGCGCGCGATAATTCG\",\n",
    "                 \"TTTCGGCCGCGATTTACGG\",\n",
    "                 \"TTAATTCGGGATCGCGAAT\"]\n",
    "\n",
    "### insert your commands in the space below\n",
    "def isCpGrich(sequence):\n",
    "    numCpG = sequence.count(\"CG\")\n",
    "    if numCpG >= 4:\n",
    "        return True\n",
    "    else:\n",
    "        return False\n",
    "\n",
    "for sequence in new_sequences:\n",
    "    if isCpGrich(sequence):\n",
    "        print(sequence)\n"
   ]
  },
  {
   "cell_type": "markdown",
   "metadata": {},
   "source": [
    "Expected Outcome:\n",
    "\n",
    "ATTCGCGCGCGATAATTCG\n",
    "\n",
    "TTTCGGCCGCGATTTACGG"
   ]
  }
 ],
 "metadata": {
  "kernelspec": {
   "display_name": "Python 3",
   "language": "python",
   "name": "python3"
  },
  "language_info": {
   "codemirror_mode": {
    "name": "ipython",
    "version": 3
   },
   "file_extension": ".py",
   "mimetype": "text/x-python",
   "name": "python",
   "nbconvert_exporter": "python",
   "pygments_lexer": "ipython3",
   "version": "3.9.7"
  }
 },
 "nbformat": 4,
 "nbformat_minor": 2
}
