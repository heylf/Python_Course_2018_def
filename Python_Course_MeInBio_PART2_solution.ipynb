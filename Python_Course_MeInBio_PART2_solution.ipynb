{
 "cells": [
  {
   "cell_type": "markdown",
   "metadata": {},
   "source": [
    "<img src=\"IMAGES_PYTHON_COURSE_2018/LOGO_MEINBIO_TRANSPARENT.png\" width=\"200\" height=\"200\" />\n",
    "# <center>Python course 2018\n",
    "### <center>MeInBio Training Group\n",
    "#### <center> by Florian Heyl & Francesco Ferrari \n",
    "Welcome to this introduction to Python. \n"
   ]
  },
  {
   "cell_type": "markdown",
   "metadata": {},
   "source": [
    "# PART 2 : LISTS, LOOPS AND BRANCHES\n",
    "\n",
    "\n",
    "    \n"
   ]
  },
  {
   "cell_type": "markdown",
   "metadata": {},
   "source": [
    "## Exercise 1: Lists\n",
    "\n",
    "List are some sort of array in python. Lets dive right into it to get a feeling of what lists are."
   ]
  },
  {
   "cell_type": "code",
   "execution_count": 1,
   "metadata": {},
   "outputs": [],
   "source": [
    "proteins = [\"DDX3X\", \"AUH\", \"GTF2F1\", \"EWSR1\"]\n",
    "replicates = [2,3,2,1]"
   ]
  },
  {
   "cell_type": "markdown",
   "metadata": {},
   "source": [
    "Here we created two lists, one holding proteins we studied and one holding how many biological replicates we have done for each protein. \n",
    "\n",
    "Lets say we want just the first protein of our list we simply do:"
   ]
  },
  {
   "cell_type": "code",
   "execution_count": 2,
   "metadata": {},
   "outputs": [
    {
     "name": "stdout",
     "output_type": "stream",
     "text": [
      "DDX3X\n"
     ]
    }
   ],
   "source": [
    "print(proteins[0])"
   ]
  },
  {
   "cell_type": "markdown",
   "metadata": {},
   "source": [
    "**!! Lists allways start at 0 in python!!**\n",
    "This is not allways the case. Most languages do it that way. But some crazy people think that its more intuite to start at 1 like in **R**. So allways check before you start coding. \n",
    "\n",
    "To test how long a list is you simply do:"
   ]
  },
  {
   "cell_type": "code",
   "execution_count": 3,
   "metadata": {},
   "outputs": [
    {
     "name": "stdout",
     "output_type": "stream",
     "text": [
      "4\n"
     ]
    }
   ],
   "source": [
    "print(len(proteins))"
   ]
  },
  {
   "cell_type": "markdown",
   "metadata": {},
   "source": [
    "And we get the anticapted length of four proteins. \n",
    "\n",
    "<img src=\"IMAGES_PYTHON_COURSE_2018/question-mark.png\" width=\"24\" height=\"24\" style=\"float: left;\"/> What is then the last index of the list **proteins**? \n",
    "\n",
    "#### TASK \n",
    "\n",
    "Check your assumption in the field below. What do you get if you go beyond the lists capacity?"
   ]
  },
  {
   "cell_type": "code",
   "execution_count": 5,
   "metadata": {},
   "outputs": [
    {
     "name": "stdout",
     "output_type": "stream",
     "text": [
      "EWSR1\n"
     ]
    },
    {
     "ename": "IndexError",
     "evalue": "list index out of range",
     "output_type": "error",
     "traceback": [
      "\u001b[0;31m---------------------------------------------------------------------------\u001b[0m",
      "\u001b[0;31mIndexError\u001b[0m                                Traceback (most recent call last)",
      "\u001b[0;32m<ipython-input-5-cd72477dd85c>\u001b[0m in \u001b[0;36m<module>\u001b[0;34m\u001b[0m\n\u001b[1;32m      1\u001b[0m \u001b[0;31m### put your code here\u001b[0m\u001b[0;34m\u001b[0m\u001b[0;34m\u001b[0m\u001b[0;34m\u001b[0m\u001b[0m\n\u001b[1;32m      2\u001b[0m \u001b[0mprint\u001b[0m\u001b[0;34m(\u001b[0m\u001b[0mproteins\u001b[0m\u001b[0;34m[\u001b[0m\u001b[0;36m3\u001b[0m\u001b[0;34m]\u001b[0m\u001b[0;34m)\u001b[0m\u001b[0;34m\u001b[0m\u001b[0;34m\u001b[0m\u001b[0m\n\u001b[0;32m----> 3\u001b[0;31m \u001b[0mprint\u001b[0m\u001b[0;34m(\u001b[0m\u001b[0mproteins\u001b[0m\u001b[0;34m[\u001b[0m\u001b[0;36m4\u001b[0m\u001b[0;34m]\u001b[0m\u001b[0;34m)\u001b[0m\u001b[0;34m\u001b[0m\u001b[0;34m\u001b[0m\u001b[0m\n\u001b[0m",
      "\u001b[0;31mIndexError\u001b[0m: list index out of range"
     ]
    }
   ],
   "source": [
    "### put your code here\n",
    "print(proteins[3])\n",
    "print(proteins[4])"
   ]
  },
  {
   "cell_type": "markdown",
   "metadata": {},
   "source": [
    "Python is very kind in that sense, telling you when you are out of bounds. Other languages like **R** or **C++** sometimes give you no error and garbage as an output. So allways be careful in other languages. \n",
    "\n",
    "Python has a very intuitive way to get intervals from lists. Let's say that I want the first two proteins out of my list. then I do this:"
   ]
  },
  {
   "cell_type": "code",
   "execution_count": 6,
   "metadata": {},
   "outputs": [
    {
     "name": "stdout",
     "output_type": "stream",
     "text": [
      "['DDX3X', 'AUH']\n"
     ]
    }
   ],
   "source": [
    "print(proteins[0:2])"
   ]
  },
  {
   "cell_type": "markdown",
   "metadata": {},
   "source": [
    "The snythax can be intepreted as including the index 0 and excluding the index 2. So we go from 0 to 1.\n",
    "\n",
    "### TASK \n",
    "\n",
    "Give two possible ways to print the full content of **proteins**."
   ]
  },
  {
   "cell_type": "code",
   "execution_count": 8,
   "metadata": {},
   "outputs": [
    {
     "name": "stdout",
     "output_type": "stream",
     "text": [
      "['DDX3X', 'AUH', 'GTF2F1', 'EWSR1']\n",
      "DDX3X AUH GTF2F1 EWSR1\n"
     ]
    }
   ],
   "source": [
    "### put your code here\n",
    "print(proteins)\n",
    "print(' '.join(proteins))"
   ]
  },
  {
   "cell_type": "markdown",
   "metadata": {},
   "source": [
    "But what if I don't want the first two proteins, and I want instead the last two? Python has an intuitve way to deal with it, without making the synthax too complicated. "
   ]
  },
  {
   "cell_type": "code",
   "execution_count": 9,
   "metadata": {},
   "outputs": [
    {
     "name": "stdout",
     "output_type": "stream",
     "text": [
      "['GTF2F1', 'EWSR1']\n"
     ]
    }
   ],
   "source": [
    "print(proteins[-2:])"
   ]
  },
  {
   "cell_type": "markdown",
   "metadata": {},
   "source": [
    "Maybe you already see what this resembles. The synthax is the same as for stings (how convienient!) because strings are nothing else than a list of character. So the word \"hello\" is just a list holding [\"h\", \"e\", \"l\", \"l\", \"o\"]. \n",
    "\n",
    "So the next thing that comes to our mind might be to add a new element to an existing list. Let's say that we have done a new experiment for the protein \"UPF1\". Then, we simply add the protein to the list by:"
   ]
  },
  {
   "cell_type": "code",
   "execution_count": 10,
   "metadata": {},
   "outputs": [
    {
     "name": "stdout",
     "output_type": "stream",
     "text": [
      "['DDX3X', 'AUH', 'GTF2F1', 'EWSR1', 'UPF1']\n"
     ]
    }
   ],
   "source": [
    "proteins.append(\"UPF1\")\n",
    "print(proteins)"
   ]
  },
  {
   "cell_type": "markdown",
   "metadata": {},
   "source": [
    "The function **append()** takes and object of different type and adds it to list. \n",
    "\n",
    "### TASK \n",
    "\n",
    "The experiment I have done for UPF1 had **5 replicates**. Add the number to the list **replicates**. "
   ]
  },
  {
   "cell_type": "code",
   "execution_count": 11,
   "metadata": {},
   "outputs": [],
   "source": [
    "### put your code here\n",
    "replicates.append(5)"
   ]
  },
  {
   "cell_type": "markdown",
   "metadata": {},
   "source": [
    "Ok, so far so good. But what if I made a change and my first protein DDX3X had actually 3 instead of 2 replicates? Like we have learnd, we can simply get the value an change it by doing this:"
   ]
  },
  {
   "cell_type": "code",
   "execution_count": 12,
   "metadata": {},
   "outputs": [
    {
     "name": "stdout",
     "output_type": "stream",
     "text": [
      "2\n",
      "3\n",
      "[3, 3, 2, 1, 5]\n"
     ]
    }
   ],
   "source": [
    "print(replicates[0])\n",
    "replicates[0] = 3\n",
    "print(replicates[0])\n",
    "print(replicates)"
   ]
  },
  {
   "cell_type": "markdown",
   "metadata": {},
   "source": [
    "You can also combine list. Let's say we already had a protein list and want to combine our new one with the old one. Then we do:"
   ]
  },
  {
   "cell_type": "code",
   "execution_count": 13,
   "metadata": {},
   "outputs": [
    {
     "name": "stdout",
     "output_type": "stream",
     "text": [
      "['DDX3X', 'AUH', 'GTF2F1', 'EWSR1', 'UPF1']\n",
      "['DDX3X', 'AUH', 'GTF2F1', 'EWSR1', 'UPF1', 'DDX3X', 'SRSF1', 'YWHAG']\n"
     ]
    }
   ],
   "source": [
    "proteins_old = ['DDX3X', 'SRSF1', 'YWHAG']\n",
    "print(proteins)\n",
    "proteins_new = proteins + proteins_old\n",
    "print(proteins_new)"
   ]
  },
  {
   "cell_type": "markdown",
   "metadata": {},
   "source": [
    "Ups, I made a mistake an the list **proteins** contains now two entries of \"DDX3X\".\n",
    "\n",
    "### TASK\n",
    "\n",
    "Find a way to remove the second entry of DDX3X."
   ]
  },
  {
   "cell_type": "code",
   "execution_count": 20,
   "metadata": {},
   "outputs": [
    {
     "name": "stdout",
     "output_type": "stream",
     "text": [
      "['DDX3X', 'AUH', 'GTF2F1', 'EWSR1', 'UPF1', 'SRSF1', 'YWHAG']\n",
      "['DDX3X', 'AUH', 'GTF2F1', 'EWSR1', 'UPF1', 'SRSF1', 'YWHAG']\n"
     ]
    }
   ],
   "source": [
    "### put your code here\n",
    "proteins2 = proteins_new[0:5] + proteins_new[6:]\n",
    "print(proteins2)\n",
    "\n",
    "excluded = proteins_new.pop(5)\n",
    "print(proteins_new)"
   ]
  },
  {
   "cell_type": "markdown",
   "metadata": {},
   "source": [
    "## Exercise 2: Loops\n",
    "\n",
    "Python has various type of loops. The most frequently used loop in every programming language is the **for loop**. For loops have different synthax in every language, so you have to check outside of python how you can use them. Even in python the **for loop** can vary based on the object you applying it to. But lets get a hands on to see what they are doing."
   ]
  },
  {
   "cell_type": "code",
   "execution_count": 28,
   "metadata": {},
   "outputs": [],
   "source": [
    "peaks_for_DDX3X = [\"peak\", \"peak\", \"peak\", \"peak\"]\n",
    "reads_in_peaks = [24, 3, 10, 16]\n",
    "reads_in_control = [23, 3, 5, 12]"
   ]
  },
  {
   "cell_type": "markdown",
   "metadata": {},
   "source": [
    "Lets say I ran a peak calling algorithm and I want the number of reads for each peaks the algorithm has called, then I do the following:"
   ]
  },
  {
   "cell_type": "code",
   "execution_count": 29,
   "metadata": {},
   "outputs": [
    {
     "name": "stdout",
     "output_type": "stream",
     "text": [
      "24\n",
      "3\n",
      "10\n",
      "16\n"
     ]
    }
   ],
   "source": [
    "for i in reads_in_peaks:\n",
    "    print(i)"
   ]
  },
  {
   "cell_type": "markdown",
   "metadata": {},
   "source": [
    "Simple as that. What the for loop is doing here is the definition of an object that has the same type as each individual object inside the list **reads_in_peaks**. Another way to do the **for-loop** is by:"
   ]
  },
  {
   "cell_type": "code",
   "execution_count": 30,
   "metadata": {},
   "outputs": [
    {
     "name": "stdout",
     "output_type": "stream",
     "text": [
      "24\n",
      "3\n",
      "10\n",
      "16\n"
     ]
    }
   ],
   "source": [
    "for i in range(0, len(reads_in_peaks)):\n",
    "    print(reads_in_peaks[i])"
   ]
  },
  {
   "cell_type": "markdown",
   "metadata": {},
   "source": [
    "The output is the same but **i** is different now. We defined an integer that goes from 0 to the end of **reads_in_peaks**. So, in order to retrieve the element, we have to put the varaible **i** inside of our list **reads_in_peaks** like we have done it in the previous exercise.\n",
    "\n",
    "### TASK\n",
    "\n",
    "As you may have seen already, the list **peaks_for_DDX3X** contains four instances of the word \"peak\". However to dinstinguish them I want to rename them and give them a number based on their position. Use the knowledge you obtained so far and redefine the elements in the list **peaks_for_DDX3X**. "
   ]
  },
  {
   "cell_type": "code",
   "execution_count": 31,
   "metadata": {},
   "outputs": [
    {
     "name": "stdout",
     "output_type": "stream",
     "text": [
      "['peak0', 'peak1', 'peak2', 'peak3']\n"
     ]
    }
   ],
   "source": [
    "### put your code here\n",
    "for i in range(0, len(peaks_for_DDX3X)):\n",
    "    peaks_for_DDX3X[i] = peaks_for_DDX3X[i] + str(i)\n",
    "\n",
    "print(peaks_for_DDX3X)"
   ]
  },
  {
   "cell_type": "markdown",
   "metadata": {},
   "source": [
    "Lets imagine this peak list are four distinctive peaks from one gene. Your collaborator asks you to find one specific and significant motif. So you first eyeball the number of reads in peaks."
   ]
  },
  {
   "cell_type": "code",
   "execution_count": 25,
   "metadata": {},
   "outputs": [
    {
     "name": "stdout",
     "output_type": "stream",
     "text": [
      "[24, 3, 10, 16]\n"
     ]
    }
   ],
   "source": [
    "print(reads_in_peaks)"
   ]
  },
  {
   "cell_type": "markdown",
   "metadata": {},
   "source": [
    "With that you find that the first peak is most likely a very significant target. However, as a good scientist you have done also a negative control. The list **reads_in_control** describes the analysed reads that fall in the same peak regions your peak calling algorithm has found. \n",
    "\n",
    "### TASK \n",
    "\n",
    "Find the most significant peak by calculating a simple foldchange with the help of a for loop.\n"
   ]
  },
  {
   "cell_type": "code",
   "execution_count": 38,
   "metadata": {},
   "outputs": [
    {
     "name": "stdout",
     "output_type": "stream",
     "text": [
      "[0.631578947368421, 0.05357142857142857, 0.13513513513513514, 0.25806451612903225]\n",
      "peak0 has the highest fc.\n"
     ]
    }
   ],
   "source": [
    "### put your code here\n",
    "fc = []\n",
    "for i in range(0, len(peaks_for_DDX3X)):\n",
    "    fc.append(reads_in_peaks[i] / reads_in_control[i])\n",
    "\n",
    "print(fc)\n",
    "print(peaks_for_DDX3X[fc.index(max(fc))], 'has the highest fc.')"
   ]
  },
  {
   "cell_type": "markdown",
   "metadata": {},
   "source": [
    "### TASK\n",
    "\n",
    "You have done two replicates for your experiment. Find me the most significant peak. We assume that the data is normalized. \n",
    "\n",
    "HINT: find also a way to express the robustness for the peaks. \n"
   ]
  },
  {
   "cell_type": "code",
   "execution_count": 1,
   "metadata": {},
   "outputs": [
    {
     "name": "stdout",
     "output_type": "stream",
     "text": [
      "Peak 18 has the highest fc.\n",
      "Peak 15 is the most robust.\n",
      "[0.5131578947368421, 0.5, 0.08783783783783784, 1.25, 2.25, 0.38524590163934425, 9.1, 0.2727272727272727, 0.725, 0.7954545454545454, 0.8432835820895522, 1.1048387096774193, 1.8888888888888888, 0.1346153846153846, 0.16463414634146342, 0.22058823529411764, 0.8904109589041096, 1.1097560975609757, 15.0, 0.9117647058823529] \n",
      " [0.6578947368421052, 0.25, 0.14864864864864866, 0.6935483870967741, 1.3823529411764708, 0.3770491803278688, 12.600000000000001, 0.4444444444444445, 1.0, 1.5454545454545454, 0.4626865671641791, 0.8225806451612903, 0.5185185185185188, 0.08974358974358974, 0.18292682926829268, 0.08823529411764705, 0.5753424657534247, 1.2926829268292683, 13.0, 1.7058823529411764]\n"
     ]
    }
   ],
   "source": [
    "import random\n",
    "random.seed(123)\n",
    "\n",
    "reads_in_peaks_rep1 = [random.randint(1, 100) for p in range(0, 20)]\n",
    "reads_in_peaks_rep2 = [random.randint(1, 100) for p in range(0, 20)]\n",
    "reads_in_control = [random.randint(1, 100) for p in range(0, 20)]\n",
    "\n",
    "### put your code here\n",
    "\n",
    "# print(reads_in_peaks_rep1, '\\n', reads_in_peaks_rep2, '\\n', reads_in_control)\n",
    "\n",
    "fc = []\n",
    "robustness = []\n",
    "for i in range(0, len(reads_in_peaks_rep1)):\n",
    "    fc.append(((reads_in_peaks_rep1[i] + reads_in_peaks_rep2[i])/2)/reads_in_control[i])\n",
    "    robustness.append(abs((reads_in_peaks_rep1[i]/reads_in_control[i]) - (reads_in_peaks_rep2[i]/reads_in_control[i])))\n",
    "    \n",
    "    \n",
    "print('Peak', fc.index(max(fc)), 'has the highest fc.\\nPeak', robustness.index(min(robustness)), 'is the most robust.')\n",
    "\n",
    "print(fc, '\\n', robustness)\n"
   ]
  },
  {
   "cell_type": "markdown",
   "metadata": {},
   "source": [
    "## Exercise 3: Loops with Lists\n",
    "\n",
    "Python has a neat little way to do loops with list in one line. For example the for loop we used to iterate through the list **peaks_for_DDX3X** can be achieved in a different way:"
   ]
  },
  {
   "cell_type": "code",
   "execution_count": 8,
   "metadata": {},
   "outputs": [
    {
     "name": "stdout",
     "output_type": "stream",
     "text": [
      "['peak_0', 'peak_1', 'peak_2', 'peak_3']\n"
     ]
    }
   ],
   "source": [
    "peaks_for_DDX3X = [\"peak\", \"peak\", \"peak\", \"peak\"]\n",
    "peaks_for_DDX3X = [peaks_for_DDX3X[i] + \"_\" + str(i) for i in range(0, len(peaks_for_DDX3X))]\n",
    "print(peaks_for_DDX3X)"
   ]
  },
  {
   "cell_type": "markdown",
   "metadata": {},
   "source": [
    "The first part of the second line **peaks_for_DDX3X[i] + \"_\" + str(i)** is simply a concatenation of our peak name.\n",
    "The rest is what we already learned from the for loops.\n",
    "\n",
    "### TASK\n",
    "\n",
    "Try and implement the calculation of the foldchange in one line."
   ]
  },
  {
   "cell_type": "code",
   "execution_count": 51,
   "metadata": {},
   "outputs": [
    {
     "name": "stdout",
     "output_type": "stream",
     "text": [
      "[1.0434782608695652, 1.0, 2.0, 1.3333333333333333]\n",
      "[1.0434782608695652, 1.0, 2.0, 1.3333333333333333]\n"
     ]
    }
   ],
   "source": [
    "reads_in_peaks = [24, 3, 10, 16]\n",
    "reads_in_control = [23, 3, 5, 12]\n",
    "\n",
    "### put your code here\n",
    "\n",
    "fc = [reads_in_peaks[i] / reads_in_control[i] for i in range(0, len(peaks_for_DDX3X))]\n",
    "print(fc)\n",
    "\n",
    "\n",
    "fc2 = [a / b for a,b in zip(reads_in_peaks, reads_in_control)]\n",
    "print(fc2)"
   ]
  },
  {
   "cell_type": "markdown",
   "metadata": {},
   "source": [
    "## Exercise 4: While Loops\n",
    "\n",
    "**For** loops are not the only types. Every programming language including python has **while** loops. In contrast to **for** loops, **while** loops interate until a certain condition is met. Lets see what this means:"
   ]
  },
  {
   "cell_type": "code",
   "execution_count": 52,
   "metadata": {},
   "outputs": [
    {
     "name": "stdout",
     "output_type": "stream",
     "text": [
      "1\n",
      "2\n",
      "3\n",
      "4\n",
      "5\n"
     ]
    }
   ],
   "source": [
    "i = 1\n",
    "while i < 6:\n",
    "    print(i)\n",
    "    i += 1"
   ]
  },
  {
   "cell_type": "markdown",
   "metadata": {},
   "source": [
    "As you can see, the loop is executed until the iterator **i** is equal to 6. Now you might ask, what is actually the big difference between a **for** and a **while** loop? \n",
    "\n",
    "The **for** statement iterates through a collection or iterable object or generator function.\n",
    "The **while** statement simply loops until a condition is False.\n",
    "\n",
    "Now you might ask. When do I use **for** and when do I use **while** loops?\n",
    "\n",
    "This really depends on your own demands and your own thinking. Be careful in other languages. Sometimes while and for loops behave more differently than you might think. \n",
    "\n",
    "### TASK\n",
    "\n",
    "Implement a **for** loop for the **while** loop in this exercise."
   ]
  },
  {
   "cell_type": "code",
   "execution_count": 58,
   "metadata": {},
   "outputs": [
    {
     "name": "stdout",
     "output_type": "stream",
     "text": [
      "1\n",
      "2\n",
      "3\n",
      "4\n",
      "5\n",
      "\n",
      "\n",
      "1\n",
      "2\n",
      "3\n",
      "4\n",
      "5\n"
     ]
    }
   ],
   "source": [
    "### put your code here\n",
    "[print(i) for i in range(1, 6)]\n",
    "\n",
    "print('\\n')\n",
    "\n",
    "for i in range(1,6):\n",
    "    print(i)"
   ]
  },
  {
   "cell_type": "markdown",
   "metadata": {},
   "source": [
    "## Exercise 5: Branches\n",
    "\n",
    "You might haven't realised it, but you already used branches. Branches are simple conditions you ask during the code. Like in the **while** loop, every iteration asked if our iterator **i** is smaller than 6 and if not then the **while** loop would stop. So let's see how we can use branches in python outside of loops."
   ]
  },
  {
   "cell_type": "code",
   "execution_count": 59,
   "metadata": {},
   "outputs": [
    {
     "name": "stdout",
     "output_type": "stream",
     "text": [
      "yes1\n",
      "yes2\n",
      "yes4\n"
     ]
    }
   ],
   "source": [
    "peaks_for_DDX3X = [\"peak1\", \"peak2\", \"peak3\", \"peak4\"]\n",
    "reads_in_peaks = [24, 3, 10, 16]\n",
    "reads_in_control = [23, 3, 5, 12]\n",
    "\n",
    "if(peaks_for_DDX3X[0] == \"peak1\"):\n",
    "    print(\"yes1\")\n",
    "if(reads_in_peaks[0] > 20):\n",
    "    print(\"yes2\")\n",
    "if(reads_in_peaks[0] < 20):\n",
    "    print(\"yes3\")\n",
    "if(123 > 20):\n",
    "    print(\"yes4\")"
   ]
  },
  {
   "cell_type": "markdown",
   "metadata": {},
   "source": [
    "You see we simply ask logical **yes/no** questions with the **if** statement. To compare something with something else you use the logical operator: **> < >= <= == !=**. <br/>\n",
    "\n",
    "<img src=\"IMAGES_PYTHON_COURSE_2018/question-mark.png\" width=\"24\" height=\"24\" style=\"float: left;\"/>\n",
    "Keep in mind, in every language you always check if something should be equal to something else with the oprator **==**. Do you have an idea why? <br/> \n",
    "\n",
    "<img src=\"IMAGES_PYTHON_COURSE_2018/question-mark.png\" width=\"24\" height=\"24\" style=\"float: left;\"/>\n",
    "What does the operator **!=** mean?\n",
    "\n",
    "### TASK \n",
    "\n",
    "Amend the **for** loop in exercise 2 where we calculated the foldchange. Check every time with an **if** statement if the foldchange is **bigger or equal than 2**."
   ]
  },
  {
   "cell_type": "code",
   "execution_count": 61,
   "metadata": {},
   "outputs": [
    {
     "name": "stdout",
     "output_type": "stream",
     "text": [
      "FC >= 2 at peak 2\n"
     ]
    }
   ],
   "source": [
    "### put your code here\n",
    "fc = []\n",
    "for i in range(0, len(peaks_for_DDX3X)):\n",
    "    fc.append(reads_in_peaks[i] / reads_in_control[i])\n",
    "    if(fc[i] >= 2):\n",
    "        print('FC >= 2 at peak', i)"
   ]
  },
  {
   "cell_type": "markdown",
   "metadata": {},
   "source": [
    "The cool thing: you can also chain conditions in one **if** statement."
   ]
  },
  {
   "cell_type": "code",
   "execution_count": 62,
   "metadata": {},
   "outputs": [
    {
     "name": "stdout",
     "output_type": "stream",
     "text": [
      "yes1\n",
      "yes3\n"
     ]
    }
   ],
   "source": [
    "if(reads_in_peaks[0] > 20 and peaks_for_DDX3X[0] == \"peak1\"):\n",
    "    print(\"yes1\")\n",
    "if(reads_in_peaks[0] > 20 and peaks_for_DDX3X[0] == \"peak2\"):\n",
    "    print(\"yes2\")\n",
    "if(reads_in_peaks[0] > 20 or peaks_for_DDX3X[0] == \"peak2\"):\n",
    "    print(\"yes3\")"
   ]
  },
  {
   "cell_type": "markdown",
   "metadata": {},
   "source": [
    "<img src=\"IMAGES_PYTHON_COURSE_2018/question-mark.png\" width=\"24\" height=\"24\" style=\"float: left;\"/> The logical operators **and/or** chain conditions in an **if** statement together. What is the difference between **and** and **or**?"
   ]
  },
  {
   "cell_type": "code",
   "execution_count": 63,
   "metadata": {},
   "outputs": [],
   "source": [
    "peaks_for_DDX3X = [\"peak1\", \"peak2\", \"peak3\", \"peak4\"]\n",
    "reads_in_peaks = [24, 3, 10, 16]\n",
    "reads_in_control = [23, 1, 5, 8]\n",
    "p_value = [0.001, 0.0013, 0.0015, 0.5]"
   ]
  },
  {
   "cell_type": "markdown",
   "metadata": {},
   "source": [
    "### TASK\n",
    "\n",
    "Amend the **for** loop from our previous task **using the new data**. Check if the foldchange is **bigger or equal than 2** and simultanously check if the p-value is **smaller or equal than 0.05**. Print the name of the peak if the condition is true."
   ]
  },
  {
   "cell_type": "code",
   "execution_count": 65,
   "metadata": {},
   "outputs": [
    {
     "name": "stdout",
     "output_type": "stream",
     "text": [
      "FC >= 2 and p <= 0.05 at peak2\n",
      "FC >= 2 and p <= 0.05 at peak3\n"
     ]
    }
   ],
   "source": [
    "### put your code here\n",
    "fc = []\n",
    "for i in range(0, len(peaks_for_DDX3X)):\n",
    "    fc.append(reads_in_peaks[i] / reads_in_control[i])\n",
    "    if(fc[i] >= 2 and p_value[i] <= 0.05):\n",
    "        print('FC >= 2 and p <= 0.05 at', peaks_for_DDX3X[i])"
   ]
  },
  {
   "cell_type": "markdown",
   "metadata": {},
   "source": [
    "Now, let's add something new to our **if** statment. Sometimes you need to do something when the condition inside the **if** statment is not met. For that reason we have the **else** statement. "
   ]
  },
  {
   "cell_type": "code",
   "execution_count": 66,
   "metadata": {},
   "outputs": [
    {
     "name": "stdout",
     "output_type": "stream",
     "text": [
      "no\n"
     ]
    }
   ],
   "source": [
    "if(peaks_for_DDX3X[0] == \"peak2\"):\n",
    "    print(\"yes\")\n",
    "else:\n",
    "    print(\"no\")"
   ]
  },
  {
   "cell_type": "markdown",
   "metadata": {},
   "source": [
    "You see, it is quite intutive. If the condition in **if** is false then the **else** statement is executed. \n",
    "\n",
    "### TASK\n",
    "\n",
    "Amend the **for** loop from our previous task. Add an **else** statment to the **if** condition. Print the foldchange and the p-value, if the condition of the **if** statement is false. "
   ]
  },
  {
   "cell_type": "code",
   "execution_count": 68,
   "metadata": {},
   "outputs": [
    {
     "name": "stdout",
     "output_type": "stream",
     "text": [
      "peak1 - FC = 1.0434782608695652 - p = 0.001\n",
      "FC >= 2 and p <= 0.05 at peak2\n",
      "FC >= 2 and p <= 0.05 at peak3\n",
      "peak4 - FC = 2.0 - p = 0.5\n"
     ]
    }
   ],
   "source": [
    "### put your code here\n",
    "fc = []\n",
    "for i in range(0, len(peaks_for_DDX3X)):\n",
    "    fc.append(reads_in_peaks[i] / reads_in_control[i])\n",
    "    if(fc[i] >= 2 and p_value[i] <= 0.05):\n",
    "        print('FC >= 2 and p <= 0.05 at', peaks_for_DDX3X[i])\n",
    "    else:\n",
    "        print(peaks_for_DDX3X[i], '- FC =', fc[i], '- p =', p_value[i])"
   ]
  }
 ],
 "metadata": {
  "kernelspec": {
   "display_name": "Python 3",
   "language": "python",
   "name": "python3"
  },
  "language_info": {
   "codemirror_mode": {
    "name": "ipython",
    "version": 3
   },
   "file_extension": ".py",
   "mimetype": "text/x-python",
   "name": "python",
   "nbconvert_exporter": "python",
   "pygments_lexer": "ipython3",
   "version": "3.8.8"
  }
 },
 "nbformat": 4,
 "nbformat_minor": 2
}
